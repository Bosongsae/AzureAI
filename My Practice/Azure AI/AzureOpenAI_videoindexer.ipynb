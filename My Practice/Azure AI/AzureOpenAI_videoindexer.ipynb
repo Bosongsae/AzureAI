{
 "cells": [
  {
   "cell_type": "markdown",
   "metadata": {},
   "source": [
    "## index 만들기"
   ]
  },
  {
   "cell_type": "code",
   "execution_count": null,
   "metadata": {},
   "outputs": [],
   "source": [
    "import requests \n",
    "\n",
    "ENDPOINT = \"\" \n",
    "APIKEY = \"\" \n",
    "\n",
    "def put_index(index_name) : \n",
    "    index_name = \"6a007-video-index\"\n",
    "    end_point = f'{ENDPOINT}/computervision/retrieval/indexes/{index_name}'\n",
    "\n",
    "    params = {\n",
    "        \"api-version\" : \"2023-05-01-preview\"\n",
    "    }\n",
    "\n",
    "    headers = {\n",
    "        \"Ocp-Apim-Subscription-Key\" : APIKEY,\n",
    "        \"Content-Type\" : \"application/json\"\n",
    "    }\n",
    "\n",
    "    body = {\n",
    "    'metadataSchema': {\n",
    "        'fields': [\n",
    "        {\n",
    "            'name': 'cameraId',\n",
    "            'searchable': False,\n",
    "            'filterable': True,\n",
    "            'type': 'string'\n",
    "        },\n",
    "        {\n",
    "            'name': 'timestamp',\n",
    "            'searchable': False,\n",
    "            'filterable': True,\n",
    "            'type': 'datetime'\n",
    "        }\n",
    "        ]\n",
    "    },\n",
    "    'features': [\n",
    "        {\n",
    "        'name': 'vision',\n",
    "        'domain': 'surveillance'\n",
    "        },\n",
    "        {\n",
    "        'name': 'speech'\n",
    "        }\n",
    "    ]\n",
    "    }\n",
    "\n",
    "    response = requests.put(end_point, params=params, headers=headers, json=body)\n",
    "\n",
    "    return response, index_name\n",
    "\n"
   ]
  },
  {
   "cell_type": "markdown",
   "metadata": {},
   "source": [
    "## video 입력"
   ]
  },
  {
   "cell_type": "code",
   "execution_count": null,
   "metadata": {},
   "outputs": [],
   "source": [
    "# def put_video(video_url, index_name) :\n",
    "index_name = \"\"\n",
    "end_point2 = f'{ENDPOINT}/computervision/retrieval/indexes/{index_name}/ingestions/my-ingestion'\n",
    "\n",
    "params2 = {\n",
    "        \"api-version\" : \"2023-05-01-preview\"\n",
    "    }\n",
    "\n",
    "headers2 = {\n",
    "    \"Ocp-Apim-Subscription-Key\" : APIKEY,\n",
    "    \"Content-Type\" : \"application/json\"\n",
    "}\n",
    "\n",
    "body = { 'videos': [\n",
    "    {\n",
    "      'mode': 'add',\n",
    "      'documentId': '',\n",
    "      'documentUrl': '',\n",
    "      'metadata': {\n",
    "        'cameraId': 'camera1',\n",
    "        'timestamp': '2025-03-25 17:25:00'\n",
    "      }\n",
    "    }]}\n",
    "\n",
    "\n",
    "\n",
    "response2 =requests.put(end_point2, params=params2, headers=headers2, json=body)\n",
    "print(response2.status_code, response2.json())\n"
   ]
  },
  {
   "cell_type": "markdown",
   "metadata": {},
   "source": [
    "## 3. 수집 과정 확인"
   ]
  },
  {
   "cell_type": "code",
   "execution_count": null,
   "metadata": {},
   "outputs": [],
   "source": [
    "\n",
    "end_point_get = f'{ENDPOINT}/computervision/retrieval/indexes/{index_name}/ingestions' \n",
    "params_get = {\n",
    "    \"api-version\" : \"2023-05-01-preview\",\n",
    "    \"top\" : 20    \n",
    "}\n",
    "headers_get = {\n",
    "    \"Ocp-Apim-Subscription-Key\" : APIKEY\n",
    "}\n",
    "\n",
    "response_get = requests.get(end_point_get, params=params_get, headers=headers_get)\n",
    "print(response_get.status_code, response_get.json())"
   ]
  },
  {
   "cell_type": "markdown",
   "metadata": {},
   "source": [
    "## 4. 확인"
   ]
  },
  {
   "cell_type": "code",
   "execution_count": null,
   "metadata": {},
   "outputs": [],
   "source": [
    "\n",
    "end_point_query = f'{ENDPOINT}/computervision/retrieval/indexes/{index_name}:queryByText'\n",
    "\n",
    "params_query = {\n",
    "    \"api-version\" : \"2023-05-01-preview\"\n",
    "}\n",
    "\n",
    "headers_query = {\n",
    "    \"Ocp-Apim-Subscription-Key\" : APIKEY,\n",
    "    \"Content-Type\" : \"application/json\"    \n",
    "}\n",
    "\n",
    "body_query = {\n",
    "  'queryText': 'A bald man in a suit is talking',\n",
    "  'filters': {\n",
    "    'stringFilters': [\n",
    "      {\n",
    "        'fieldName': 'cameraId',\n",
    "        'values': [\n",
    "          'camera1'\n",
    "        ]\n",
    "      }\n",
    "    ],\n",
    "    'featureFilters': ['vision']\n",
    "  }\n",
    "}\n",
    "\n",
    "response_query = requests.post(end_point_query, params=params_query, headers=headers_query, json=body_query)\n",
    "response_json = response_query.json()\n",
    "for items in response_json['value'] :\n",
    "    start_time = items['start']\n",
    "    end_time = items['end']\n",
    "    best_time = items['best']\n",
    "    print(start_time, end_time, best_time)\n"
   ]
  }
 ],
 "metadata": {
  "kernelspec": {
   "display_name": ".venv",
   "language": "python",
   "name": "python3"
  },
  "language_info": {
   "codemirror_mode": {
    "name": "ipython",
    "version": 3
   },
   "file_extension": ".py",
   "mimetype": "text/x-python",
   "name": "python",
   "nbconvert_exporter": "python",
   "pygments_lexer": "ipython3",
   "version": "3.13.1"
  }
 },
 "nbformat": 4,
 "nbformat_minor": 2
}
